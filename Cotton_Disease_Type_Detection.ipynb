{
 "cells": [
  {
   "cell_type": "code",
   "execution_count": 1,
   "id": "ece554ac",
   "metadata": {},
   "outputs": [],
   "source": [
    "#importing Libraries\n",
    "\n",
    "import numpy as np\n",
    "import mahotas\n",
    "import sklearn\n",
    "import joblib\n",
    "import cv2\n",
    "import os\n",
    "import glob\n",
    "\n",
    "\n",
    "fixed_size             = tuple((500, 500))\n",
    "train_path             = r\"C:\\Users\\shubh\\Cotton_Project\\Disease_types\"\n",
    "bins                   = 8"
   ]
  },
  {
   "cell_type": "code",
   "execution_count": 2,
   "id": "418e5ceb",
   "metadata": {},
   "outputs": [],
   "source": [
    "def bgr_rgb(image):\n",
    "    rgb_img = cv2.cvtColor(image, cv2.COLOR_BGR2RGB)\n",
    "    return rgb_img\n",
    "\n",
    "def rgb_hsv(rgb_img):\n",
    "    hsv_img = cv2.cvtColor(rgb_img, cv2.COLOR_RGB2HSV)\n",
    "    return hsv_img"
   ]
  },
  {
   "cell_type": "code",
   "execution_count": 3,
   "id": "974275b9",
   "metadata": {},
   "outputs": [],
   "source": [
    "# image segmentation\n",
    "\n",
    "def img_segmentation(rgb_img,hsv_img):\n",
    "    lower_green = np.array([25,0,20])\n",
    "    upper_green = np.array([100,255,255])\n",
    "    healthy_mask = cv2.inRange(hsv_img, lower_green, upper_green)\n",
    "    result = cv2.bitwise_and(rgb_img,rgb_img, mask=healthy_mask)\n",
    "    lower_brown = np.array([10,0,10])\n",
    "    upper_brown = np.array([30,255,255])\n",
    "    disease_mask = cv2.inRange(hsv_img, lower_brown, upper_brown)\n",
    "    disease_result = cv2.bitwise_and(rgb_img, rgb_img, mask=disease_mask)\n",
    "    final_mask = healthy_mask + disease_mask\n",
    "    final_result = cv2.bitwise_and(rgb_img, rgb_img, mask=final_mask)\n",
    "    return final_result"
   ]
  },
  {
   "cell_type": "code",
   "execution_count": 4,
   "id": "37fa1652",
   "metadata": {},
   "outputs": [],
   "source": [
    "# feature-1: Hu Moments\n",
    "def fd_hu_moments(image):\n",
    "    image = cv2.cvtColor(image, cv2.COLOR_BGR2GRAY)\n",
    "    feature = cv2.HuMoments(cv2.moments(image)).flatten()\n",
    "    return feature\n",
    "\n",
    "# feature-2: Haralick Texture\n",
    "def fd_haralick(image):\n",
    "    gray = cv2.cvtColor(image, cv2.COLOR_BGR2GRAY)\n",
    "    haralick = mahotas.features.haralick(gray).mean(axis=0)\n",
    "    return haralick\n",
    "\n",
    "# feature-3: Color Histogram\n",
    "def fd_histogram(image, mask=None):\n",
    "    image = cv2.cvtColor(image, cv2.COLOR_BGR2HSV)\n",
    "    hist  = cv2.calcHist([image], [0, 1, 2], None, [bins, bins, bins], [0, 256, 0, 256, 0, 256])\n",
    "    cv2.normalize(hist, hist)\n",
    "    return hist.flatten()"
   ]
  },
  {
   "cell_type": "code",
   "execution_count": 5,
   "id": "c7b34b52",
   "metadata": {},
   "outputs": [
    {
     "name": "stdout",
     "output_type": "stream",
     "text": [
      "['Bacterial_blight', 'Curl_virus', 'Fussarium_wilt', 'Healthy']\n"
     ]
    }
   ],
   "source": [
    "# Labels\n",
    "label = os.listdir(train_path)\n",
    "\n",
    "# sorting Labels\n",
    "label.sort()\n",
    "print(label)\n",
    "\n",
    "# empty lists to hold feature vectors and labels\n",
    "global_features = []\n",
    "labels          = []"
   ]
  },
  {
   "cell_type": "code",
   "execution_count": 6,
   "id": "c17c9667",
   "metadata": {},
   "outputs": [
    {
     "name": "stdout",
     "output_type": "stream",
     "text": [
      "Processed folder: Bacterial_blight\n",
      "Processed folder: Curl_virus\n",
      "Processed folder: Fussarium_wilt\n",
      "Processed folder: Healthy\n",
      "Completed Global Feature Extraction...\n"
     ]
    }
   ],
   "source": [
    "# Getting through the data\n",
    "for name in label:\n",
    "    dir = os.path.join(train_path, name)\n",
    "\n",
    "    # Current Label\n",
    "    current_label = name\n",
    "\n",
    "    # Getting list of all images\n",
    "    for src in os.listdir(dir):\n",
    "        # get the image file name\n",
    "        file = dir + \"\\\\\" + src\n",
    "\n",
    "        image = cv2.imread(file)\n",
    "        image = cv2.resize(image, fixed_size)\n",
    "\n",
    "        \n",
    "        # Call for image function\n",
    "        \n",
    "        BGR_RGB       = bgr_rgb(image)\n",
    "        RGB_HSV       = rgb_hsv(BGR_RGB)\n",
    "        IMG_SEGMENT   = img_segmentation(BGR_RGB,RGB_HSV)\n",
    "\n",
    "        # Call for Global Fetaures\n",
    "        \n",
    "        fv_hu_moments = fd_hu_moments(IMG_SEGMENT)\n",
    "        fv_haralick   = fd_haralick(IMG_SEGMENT)\n",
    "        fv_histogram  = fd_histogram(IMG_SEGMENT)\n",
    "        \n",
    "        # Concatenate \n",
    "        \n",
    "        global_feature = np.hstack([fv_histogram, fv_haralick, fv_hu_moments])\n",
    "        \n",
    "        \n",
    "\n",
    "        # appending to list\n",
    "        labels.append(current_label)\n",
    "        global_features.append(global_feature)\n",
    "\n",
    "    print(\"Processed folder: {}\".format(current_label))\n",
    "\n",
    "print(\"Completed Global Feature Extraction...\")"
   ]
  },
  {
   "cell_type": "code",
   "execution_count": 7,
   "id": "5d9eea38",
   "metadata": {},
   "outputs": [
    {
     "name": "stdout",
     "output_type": "stream",
     "text": [
      "Global featuressize (1710, 532)\n",
      "Labels (1710,)\n"
     ]
    }
   ],
   "source": [
    "# get the overall feature vector size\n",
    "print(\"Global featuressize {}\".format(np.array(global_features).shape))\n",
    "\n",
    "# get the overall training label size\n",
    "print(\"Labels {}\".format(np.array(labels).shape))"
   ]
  },
  {
   "cell_type": "code",
   "execution_count": 8,
   "id": "2a5987e2",
   "metadata": {},
   "outputs": [
    {
     "name": "stdout",
     "output_type": "stream",
     "text": [
      "Labels encoded...\n"
     ]
    }
   ],
   "source": [
    "# encode the target labels\n",
    "from sklearn.preprocessing import LabelEncoder\n",
    "le          = LabelEncoder()\n",
    "target      = le.fit_transform(labels)\n",
    "print(\"Labels encoded...\")"
   ]
  },
  {
   "cell_type": "code",
   "execution_count": 9,
   "id": "45a2f151",
   "metadata": {},
   "outputs": [
    {
     "name": "stdout",
     "output_type": "stream",
     "text": [
      "Global features normalized...\n"
     ]
    }
   ],
   "source": [
    "# scale features in the range (0-1)\n",
    "from sklearn.preprocessing import MinMaxScaler\n",
    "scaler            = MinMaxScaler(feature_range=(0, 1))\n",
    "rescaled_features = scaler.fit_transform(global_features)\n",
    "print(\"Global features normalized...\")"
   ]
  },
  {
   "cell_type": "code",
   "execution_count": 10,
   "id": "1cfa24ff",
   "metadata": {},
   "outputs": [
    {
     "name": "stdout",
     "output_type": "stream",
     "text": [
      "Labels: [0 0 0 ... 3 3 3]\n",
      "Labels shape: (1710,)\n"
     ]
    }
   ],
   "source": [
    "print(\"Labels: {}\".format(target))\n",
    "print(\"Labels shape: {}\".format(target.shape))"
   ]
  },
  {
   "cell_type": "code",
   "execution_count": 11,
   "id": "d55aade5",
   "metadata": {},
   "outputs": [],
   "source": [
    "# Model Training\n",
    "import warnings\n",
    "import matplotlib.pyplot as plt\n",
    "from sklearn.model_selection import train_test_split\n",
    "from sklearn.metrics import confusion_matrix, accuracy_score, classification_report\n",
    "from sklearn.linear_model import LogisticRegression\n",
    "from sklearn.tree import DecisionTreeClassifier\n",
    "from sklearn.ensemble import RandomForestClassifier\n",
    "from sklearn.neighbors import KNeighborsClassifier\n",
    "from sklearn.discriminant_analysis import LinearDiscriminantAnalysis\n",
    "from sklearn.naive_bayes import GaussianNB\n",
    "from sklearn.svm import SVC\n",
    "\n",
    "warnings.filterwarnings('ignore')\n",
    "\n",
    "\n",
    "num_trees = 100\n",
    "test_size = 0.20\n",
    "seed      = 7\n",
    "scoring    = \"accuracy\"\n",
    "\n",
    "# create all the machine learning models\n",
    "models = []\n",
    "models.append(('LR', LogisticRegression(random_state=seed)))\n",
    "models.append(('LDA', LinearDiscriminantAnalysis()))\n",
    "models.append(('KNN', KNeighborsClassifier()))\n",
    "models.append(('CART', DecisionTreeClassifier(random_state=seed)))\n",
    "models.append(('RF', RandomForestClassifier(n_estimators=num_trees, random_state=seed)))\n",
    "models.append(('NB', GaussianNB()))\n",
    "models.append(('SVM', SVC(random_state=seed)))\n",
    "\n",
    "# variables to hold the results and names\n",
    "results = []\n",
    "names   = []"
   ]
  },
  {
   "cell_type": "code",
   "execution_count": 12,
   "id": "5e7f54b3",
   "metadata": {},
   "outputs": [
    {
     "name": "stdout",
     "output_type": "stream",
     "text": [
      "Train and Test data splitted...\n",
      "Train data  : (1368, 532)\n",
      "Test data   : (342, 532)\n"
     ]
    }
   ],
   "source": [
    "# split the training and testing data\n",
    "(trainDataGlobal, testDataGlobal, trainLabelsGlobal, testLabelsGlobal) = train_test_split(rescaled_features,\n",
    "                                                                                          target,\n",
    "                                                                                          test_size=test_size,\n",
    "                                                                                          random_state=seed)\n",
    "\n",
    "print(\"Train and Test data splitted...\")\n",
    "print(\"Train data  : {}\".format(trainDataGlobal.shape))\n",
    "print(\"Test data   : {}\".format(testDataGlobal.shape)) "
   ]
  },
  {
   "cell_type": "code",
   "execution_count": 13,
   "id": "e0a20da8",
   "metadata": {},
   "outputs": [
    {
     "name": "stdout",
     "output_type": "stream",
     "text": [
      "LR: 0.947368 \n",
      "LDA: 0.950292 \n",
      "KNN: 0.900585 \n",
      "CART: 0.961988 \n",
      "RF: 0.985380 \n",
      "NB: 0.701754 \n",
      "SVM: 0.926901 \n"
     ]
    },
    {
     "data": {
      "image/png": "[encoded data removed]",
      "text/plain": [
       "<Figure size 432x288 with 1 Axes>"
      ]
     },
     "metadata": {
      "needs_background": "light"
     },
     "output_type": "display_data"
    }
   ],
   "source": [
    "# Checking Accuracy for multiple models\n",
    "for name, model in models:\n",
    "    model.fit(trainDataGlobal, trainLabelsGlobal)\n",
    "    y_predict=model.predict(testDataGlobal)\n",
    "    res = accuracy_score(testLabelsGlobal, y_predict)\n",
    "    results.append(res)\n",
    "    names.append(name)\n",
    "    msg = \"%s: %f \" % (name, res.mean())\n",
    "    print(msg)\n",
    "       \n",
    "plt.plot(names, results, color='red', marker='o')\n",
    "plt.title('Machine Learning algorithm comparison', fontsize=14)\n",
    "plt.xlabel('Models', fontsize=14)\n",
    "plt.ylabel('Accuracy Score', fontsize=14)\n",
    "plt.grid(True)\n",
    "plt.show()"
   ]
  },
  {
   "cell_type": "code",
   "execution_count": 14,
   "id": "b5e91206",
   "metadata": {},
   "outputs": [],
   "source": [
    "clf  = RandomForestClassifier(n_estimators=num_trees, random_state=seed)\n",
    "clf.fit(trainDataGlobal, trainLabelsGlobal)\n",
    "y_predict=clf.predict(testDataGlobal)"
   ]
  },
  {
   "cell_type": "code",
   "execution_count": 15,
   "id": "6ca011d1",
   "metadata": {},
   "outputs": [
    {
     "data": {
      "text/plain": [
       "['Disease_type_detection.sav']"
      ]
     },
     "execution_count": 15,
     "metadata": {},
     "output_type": "execute_result"
    }
   ],
   "source": [
    "# save the model to disk\n",
    "filename = 'Disease_type_detection.sav'\n",
    "joblib.dump(clf, filename)"
   ]
  },
  {
   "cell_type": "code",
   "execution_count": 16,
   "id": "37acd272",
   "metadata": {},
   "outputs": [],
   "source": [
    "cm = confusion_matrix(testLabelsGlobal,y_predict)"
   ]
  },
  {
   "cell_type": "code",
   "execution_count": 17,
   "id": "77418318",
   "metadata": {},
   "outputs": [
    {
     "data": {
      "text/plain": [
       "<matplotlib.axes._subplots.AxesSubplot at 0x25258e75160>"
      ]
     },
     "execution_count": 17,
     "metadata": {},
     "output_type": "execute_result"
    },
    {
     "data": {
      "image/png": "[encoded data removed]",
      "text/plain": [
       "<Figure size 432x288 with 2 Axes>"
      ]
     },
     "metadata": {
      "needs_background": "light"
     },
     "output_type": "display_data"
    }
   ],
   "source": [
    "import seaborn as sns\n",
    "sns.heatmap(cm ,annot=True)"
   ]
  },
  {
   "cell_type": "code",
   "execution_count": 18,
   "id": "399b3901",
   "metadata": {},
   "outputs": [
    {
     "data": {
      "text/plain": [
       "0.9853801169590644"
      ]
     },
     "execution_count": 18,
     "metadata": {},
     "output_type": "execute_result"
    }
   ],
   "source": [
    "from sklearn.metrics import accuracy_score\n",
    "accuracy_score(testLabelsGlobal, y_predict)"
   ]
  },
  {
   "cell_type": "code",
   "execution_count": 19,
   "id": "46fb87a8",
   "metadata": {},
   "outputs": [
    {
     "name": "stdout",
     "output_type": "stream",
     "text": [
      "0.9853801169590644\n"
     ]
    }
   ],
   "source": [
    "# load the model from disk\n",
    "loaded_model = joblib.load(filename)\n",
    "result = loaded_model.score(testDataGlobal, testLabelsGlobal)\n",
    "print(result)"
   ]
  },
  {
   "cell_type": "code",
   "execution_count": 20,
   "id": "25e72c78",
   "metadata": {},
   "outputs": [
    {
     "name": "stdout",
     "output_type": "stream",
     "text": [
      "bacteria\n",
      "bacteria\n",
      "virus\n",
      "virus\n",
      "virus\n",
      "virus\n",
      "wilt\n",
      "wilt\n",
      "wilt\n",
      "wilt\n",
      "healthy\n",
      "healthy\n",
      "healthy\n",
      "healthy\n",
      "bacteria\n",
      "bacteria\n"
     ]
    }
   ],
   "source": [
    "for img in glob.glob(r'C:\\Users\\shubh\\Cotton_Project\\type_data\\*.jpg'):\n",
    "    image = cv2.imread(img)\n",
    "\n",
    "    image = cv2.resize(image, fixed_size)\n",
    "\n",
    "    # Call for image functions\n",
    "\n",
    "    BGR_RGB       = bgr_rgb(image)\n",
    "    RGB_HSV       = rgb_hsv(BGR_RGB)\n",
    "    IMG_SEGMENT   = img_segmentation(BGR_RGB,RGB_HSV)\n",
    "\n",
    "    # Call for Global Fetaure Descriptors\n",
    "\n",
    "    fv_hu_moments = fd_hu_moments(IMG_SEGMENT)\n",
    "    fv_haralick   = fd_haralick(IMG_SEGMENT)\n",
    "    fv_histogram  = fd_histogram(IMG_SEGMENT)\n",
    "\n",
    "    # Concatenate \n",
    "\n",
    "    global_feature = np.hstack([fv_histogram, fv_haralick, fv_hu_moments])\n",
    "\n",
    "    features = []\n",
    "    features.append(global_feature)\n",
    "\n",
    "    pred = loaded_model.predict(features)\n",
    "\n",
    "    for i in pred:\n",
    "        if i == 0:\n",
    "            print('bacteria')\n",
    "        elif i == 1:\n",
    "            print('virus')\n",
    "        elif i == 2:\n",
    "            print('wilt')\n",
    "        else:\n",
    "            print('healthy')"
   ]
  },
  {
   "cell_type": "code",
   "execution_count": null,
   "id": "63f6a9bc",
   "metadata": {},
   "outputs": [],
   "source": []
  }
 ],
 "metadata": {
  "kernelspec": {
   "display_name": "Python 3 (ipykernel)",
   "language": "python",
   "name": "python3"
  },
  "language_info": {
   "codemirror_mode": {
    "name": "ipython",
    "version": 3
   },
   "file_extension": ".py",
   "mimetype": "text/x-python",
   "name": "python",
   "nbconvert_exporter": "python",
   "pygments_lexer": "ipython3",
   "version": "3.8.13"
  }
 },
 "nbformat": 4,
 "nbformat_minor": 5
}
