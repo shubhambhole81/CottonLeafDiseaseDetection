{
 "cells": [
  {
   "cell_type": "code",
   "execution_count": 1,
   "id": "ece554ac",
   "metadata": {},
   "outputs": [],
   "source": [
    "# importing libraries\n",
    "\n",
    "import numpy as np\n",
    "import mahotas\n",
    "import sklearn\n",
    "import joblib\n",
    "import cv2\n",
    "import os\n",
    "import glob\n",
    "\n",
    "\n",
    "fixed_size             = tuple((500, 500))\n",
    "train_path             = r\"C:\\Users\\shubh\\Cotton_Project\\Disease\\train\"\n",
    "test_path             = r\"C:\\Users\\shubh\\Cotton_Project\\Disease\\test\"\n",
    "bins                   = 8"
   ]
  },
  {
   "cell_type": "code",
   "execution_count": 2,
   "id": "418e5ceb",
   "metadata": {},
   "outputs": [],
   "source": [
    "def bgr_rgb(image):\n",
    "    rgb_img = cv2.cvtColor(image, cv2.COLOR_BGR2RGB)\n",
    "    return rgb_img\n",
    "\n",
    "def rgb_hsv(rgb_img):\n",
    "    hsv_img = cv2.cvtColor(rgb_img, cv2.COLOR_RGB2HSV)\n",
    "    return hsv_img"
   ]
  },
  {
   "cell_type": "code",
   "execution_count": 3,
   "id": "974275b9",
   "metadata": {},
   "outputs": [],
   "source": [
    "# image segmentation\n",
    "\n",
    "def img_segmentation(rgb_img,hsv_img):\n",
    "    lower_green = np.array([25,0,20])\n",
    "    upper_green = np.array([100,255,255])\n",
    "    healthy_mask = cv2.inRange(hsv_img, lower_green, upper_green)\n",
    "    result = cv2.bitwise_and(rgb_img,rgb_img, mask=healthy_mask)\n",
    "    lower_brown = np.array([10,0,10])\n",
    "    upper_brown = np.array([30,255,255])\n",
    "    disease_mask = cv2.inRange(hsv_img, lower_brown, upper_brown)\n",
    "    disease_result = cv2.bitwise_and(rgb_img, rgb_img, mask=disease_mask)\n",
    "    final_mask = healthy_mask + disease_mask\n",
    "    final_result = cv2.bitwise_and(rgb_img, rgb_img, mask=final_mask)\n",
    "    return final_result"
   ]
  },
  {
   "cell_type": "code",
   "execution_count": 4,
   "id": "37fa1652",
   "metadata": {},
   "outputs": [],
   "source": [
    "# feature-1: Hu Moments\n",
    "def fd_hu_moments(image):\n",
    "    image = cv2.cvtColor(image, cv2.COLOR_BGR2GRAY)\n",
    "    feature = cv2.HuMoments(cv2.moments(image)).flatten()\n",
    "    return feature\n",
    "\n",
    "# feature-2: Haralick Texture\n",
    "def fd_haralick(image):\n",
    "    gray = cv2.cvtColor(image, cv2.COLOR_BGR2GRAY)\n",
    "    haralick = mahotas.features.haralick(gray).mean(axis=0)\n",
    "    return haralick\n",
    "\n",
    "# feature-3: Color Histogram\n",
    "def fd_histogram(image, mask=None):\n",
    "    image = cv2.cvtColor(image, cv2.COLOR_BGR2HSV)\n",
    "    hist  = cv2.calcHist([image], [0, 1, 2], None, [bins, bins, bins], [0, 256, 0, 256, 0, 256])\n",
    "    cv2.normalize(hist, hist)\n",
    "    return hist.flatten()"
   ]
  },
  {
   "cell_type": "code",
   "execution_count": 5,
   "id": "c7b34b52",
   "metadata": {},
   "outputs": [
    {
     "name": "stdout",
     "output_type": "stream",
     "text": [
      "['Healthy', 'Infected']\n"
     ]
    }
   ],
   "source": [
    "#labels\n",
    "labels = os.listdir(train_path)\n",
    "\n",
    "# sorting labels\n",
    "labels.sort()\n",
    "print(labels)\n",
    "\n",
    "\n",
    "train_features = []\n",
    "train_labels   = []\n",
    "test_features  = []\n",
    "test_labels    = []"
   ]
  },
  {
   "cell_type": "code",
   "execution_count": 6,
   "id": "c17c9667",
   "metadata": {},
   "outputs": [
    {
     "name": "stdout",
     "output_type": "stream",
     "text": [
      "Processed folder: Healthy\n",
      "Processed folder: Infected\n",
      "Completed Global Feature Extraction...\n"
     ]
    }
   ],
   "source": [
    "# Getting training data\n",
    "for name in labels:\n",
    "    dir = os.path.join(train_path, name)\n",
    "\n",
    "    # current label\n",
    "    current_label = name\n",
    "    \n",
    "    # Getting List of all images\n",
    "    for src in os.listdir(dir):\n",
    "        # get the image file name\n",
    "        file = dir + \"\\\\\" + src\n",
    "        image = cv2.imread(file)\n",
    "        image = cv2.resize(image, fixed_size)\n",
    "\n",
    "        \n",
    "        # call for image functions\n",
    "        \n",
    "        BGR_RGB       = bgr_rgb(image)\n",
    "        RGB_HSV       = rgb_hsv(BGR_RGB)\n",
    "        IMG_SEGMENT   = img_segmentation(BGR_RGB,RGB_HSV)\n",
    "\n",
    "        # Call for Global Fetaures\n",
    "        \n",
    "        fv_hu_moments = fd_hu_moments(IMG_SEGMENT)\n",
    "        fv_haralick   = fd_haralick(IMG_SEGMENT)\n",
    "        fv_histogram  = fd_histogram(IMG_SEGMENT)\n",
    "        \n",
    "        # Concatenate \n",
    "        \n",
    "        global_feature = np.hstack([fv_histogram, fv_haralick, fv_hu_moments])\n",
    "        \n",
    "        \n",
    "\n",
    "        # append to list\n",
    "        train_labels.append(current_label)\n",
    "        train_features.append(global_feature)\n",
    "\n",
    "    print(\"Processed folder: {}\".format(current_label))\n",
    "\n",
    "print(\"Completed Global Feature Extraction...\")"
   ]
  },
  {
   "cell_type": "code",
   "execution_count": 7,
   "id": "5d9eea38",
   "metadata": {},
   "outputs": [
    {
     "name": "stdout",
     "output_type": "stream",
     "text": [
      "Global features (715, 532)\n",
      "Labels (715,)\n"
     ]
    }
   ],
   "source": [
    "# get the overall feature vector size\n",
    "print(\"Global features {}\".format(np.array(train_features).shape))\n",
    "\n",
    "# get the overall training label size\n",
    "print(\"Labels {}\".format(np.array(train_labels).shape))"
   ]
  },
  {
   "cell_type": "code",
   "execution_count": 8,
   "id": "2a5987e2",
   "metadata": {},
   "outputs": [
    {
     "name": "stdout",
     "output_type": "stream",
     "text": [
      "Labels encoded...\n"
     ]
    }
   ],
   "source": [
    "# encode the target labels\n",
    "from sklearn.preprocessing import LabelEncoder\n",
    "le          = LabelEncoder()\n",
    "train_target      = le.fit_transform(train_labels)\n",
    "print(\"Labels encoded...\")"
   ]
  },
  {
   "cell_type": "code",
   "execution_count": 9,
   "id": "45a2f151",
   "metadata": {},
   "outputs": [
    {
     "name": "stdout",
     "output_type": "stream",
     "text": [
      "Features normalized...\n"
     ]
    }
   ],
   "source": [
    "# scale features in the range (0-1)\n",
    "from sklearn.preprocessing import MinMaxScaler\n",
    "scaler            = MinMaxScaler(feature_range=(0, 1))\n",
    "trainscaled_features = scaler.fit_transform(train_features)\n",
    "print(\"Features normalized...\")"
   ]
  },
  {
   "cell_type": "code",
   "execution_count": 10,
   "id": "1cfa24ff",
   "metadata": {},
   "outputs": [
    {
     "name": "stdout",
     "output_type": "stream",
     "text": [
      "Labels: [0 0 0 0 0 0 0 0 0 0 0 0 0 0 0 0 0 0 0 0 0 0 0 0 0 0 0 0 0 0 0 0 0 0 0 0 0\n",
      " 0 0 0 0 0 0 0 0 0 0 0 0 0 0 0 0 0 0 0 0 0 0 0 0 0 0 0 0 0 0 0 0 0 0 0 0 0\n",
      " 0 0 0 0 0 0 0 0 0 0 0 0 0 0 0 0 0 0 0 0 0 0 0 0 0 0 0 0 0 0 0 0 0 0 0 0 0\n",
      " 0 0 0 0 0 0 0 0 0 0 0 0 0 0 0 0 0 0 0 0 0 0 0 0 0 0 0 0 0 0 0 0 0 0 0 0 0\n",
      " 0 0 0 0 0 0 0 0 0 0 0 0 0 0 0 0 0 0 0 0 0 0 0 0 0 0 0 0 0 0 0 0 0 0 0 0 0\n",
      " 0 0 0 0 0 0 0 0 0 0 0 0 0 0 0 0 0 0 0 0 0 0 0 0 0 0 0 0 0 0 0 0 0 0 0 0 0\n",
      " 0 0 0 0 0 0 0 0 0 0 0 0 0 0 0 0 0 0 0 0 0 0 0 0 0 0 0 0 0 0 0 0 0 0 0 0 0\n",
      " 0 0 0 0 0 0 0 0 0 0 0 0 0 0 0 0 0 0 0 0 0 0 0 0 0 0 0 0 0 0 0 0 0 0 0 0 0\n",
      " 0 0 0 0 0 0 0 0 0 0 0 0 0 0 0 0 0 0 0 0 0 0 0 0 0 0 0 0 0 0 0 0 0 0 0 0 0\n",
      " 0 0 0 0 0 0 0 0 0 0 0 0 0 0 0 0 0 0 0 0 0 0 0 0 0 0 0 0 0 0 0 0 0 0 0 0 0\n",
      " 0 0 0 0 0 0 0 0 0 0 0 0 0 0 0 0 0 0 0 0 0 0 0 0 0 0 0 0 0 0 0 0 0 0 0 0 0\n",
      " 0 0 0 0 0 0 0 0 0 0 0 0 0 0 0 0 0 0 0 0 1 1 1 1 1 1 1 1 1 1 1 1 1 1 1 1 1\n",
      " 1 1 1 1 1 1 1 1 1 1 1 1 1 1 1 1 1 1 1 1 1 1 1 1 1 1 1 1 1 1 1 1 1 1 1 1 1\n",
      " 1 1 1 1 1 1 1 1 1 1 1 1 1 1 1 1 1 1 1 1 1 1 1 1 1 1 1 1 1 1 1 1 1 1 1 1 1\n",
      " 1 1 1 1 1 1 1 1 1 1 1 1 1 1 1 1 1 1 1 1 1 1 1 1 1 1 1 1 1 1 1 1 1 1 1 1 1\n",
      " 1 1 1 1 1 1 1 1 1 1 1 1 1 1 1 1 1 1 1 1 1 1 1 1 1 1 1 1 1 1 1 1 1 1 1 1 1\n",
      " 1 1 1 1 1 1 1 1 1 1 1 1 1 1 1 1 1 1 1 1 1 1 1 1 1 1 1 1 1 1 1 1 1 1 1 1 1\n",
      " 1 1 1 1 1 1 1 1 1 1 1 1 1 1 1 1 1 1 1 1 1 1 1 1 1 1 1 1 1 1 1 1 1 1 1 1 1\n",
      " 1 1 1 1 1 1 1 1 1 1 1 1 1 1 1 1 1 1 1 1 1 1 1 1 1 1 1 1 1 1 1 1 1 1 1 1 1\n",
      " 1 1 1 1 1 1 1 1 1 1 1 1]\n",
      "Labels shape: (715,)\n"
     ]
    }
   ],
   "source": [
    "print(\"Labels: {}\".format(train_target))\n",
    "print(\"Labels shape: {}\".format(train_target.shape))"
   ]
  },
  {
   "cell_type": "code",
   "execution_count": 11,
   "id": "69dec578",
   "metadata": {},
   "outputs": [
    {
     "name": "stdout",
     "output_type": "stream",
     "text": [
      "Processed folder: Healthy\n",
      "Processed folder: Infected\n",
      "Completed Global Feature Extraction...\n"
     ]
    }
   ],
   "source": [
    "# Getting testing data\n",
    "for name in labels:\n",
    "    dir = os.path.join(test_path, name)\n",
    "\n",
    "    # current label\n",
    "    current_label = name\n",
    "\n",
    "    #Getting List of all images\n",
    "    for src in os.listdir(dir):\n",
    "        # get the image file name\n",
    "        file = dir + \"\\\\\" + src\n",
    "        image = cv2.imread(file)\n",
    "        image = cv2.resize(image, fixed_size)\n",
    "\n",
    "        \n",
    "        # call for image functions\n",
    "        \n",
    "        BGR_RGB       = bgr_rgb(image)\n",
    "        RGB_HSV       = rgb_hsv(BGR_RGB)\n",
    "        IMG_SEGMENT   = img_segmentation(BGR_RGB,RGB_HSV)\n",
    "        \n",
    "        # Call for Global Fetaures\n",
    "        \n",
    "        fv_hu_moments = fd_hu_moments(IMG_SEGMENT)\n",
    "        fv_haralick   = fd_haralick(IMG_SEGMENT)\n",
    "        fv_histogram  = fd_histogram(IMG_SEGMENT)\n",
    "        \n",
    "        # Concatenate \n",
    "        \n",
    "        global_feature = np.hstack([fv_histogram, fv_haralick, fv_hu_moments])\n",
    "        \n",
    "        \n",
    "\n",
    "        # append to list\n",
    "        test_labels.append(current_label)\n",
    "        test_features.append(global_feature)\n",
    "\n",
    "    print(\"Processed folder: {}\".format(current_label))\n",
    "\n",
    "print(\"Completed Global Feature Extraction...\")"
   ]
  },
  {
   "cell_type": "code",
   "execution_count": 12,
   "id": "064204e1",
   "metadata": {},
   "outputs": [
    {
     "name": "stdout",
     "output_type": "stream",
     "text": [
      "Global features size (51, 532)\n",
      "Labels (51,)\n"
     ]
    }
   ],
   "source": [
    "# get the overall feature vector size\n",
    "print(\"Global features size {}\".format(np.array(test_features).shape))\n",
    "\n",
    "# get the overall training label size\n",
    "print(\"Labels {}\".format(np.array(test_labels).shape))"
   ]
  },
  {
   "cell_type": "code",
   "execution_count": 13,
   "id": "1f1145a4",
   "metadata": {},
   "outputs": [
    {
     "name": "stdout",
     "output_type": "stream",
     "text": [
      "Labels encoded...\n"
     ]
    }
   ],
   "source": [
    "# encode the target labels\n",
    "from sklearn.preprocessing import LabelEncoder\n",
    "le          = LabelEncoder()\n",
    "test_target      = le.fit_transform(test_labels)\n",
    "print(\"Labels encoded...\")"
   ]
  },
  {
   "cell_type": "code",
   "execution_count": 14,
   "id": "15e0ace5",
   "metadata": {},
   "outputs": [
    {
     "name": "stdout",
     "output_type": "stream",
     "text": [
      "Global features normalized...\n"
     ]
    }
   ],
   "source": [
    "# scale features in the range (0-1)\n",
    "from sklearn.preprocessing import MinMaxScaler\n",
    "scaler            = MinMaxScaler(feature_range=(0, 1))\n",
    "testscaled_features = scaler.fit_transform(test_features)\n",
    "print(\"Global features normalized...\")"
   ]
  },
  {
   "cell_type": "code",
   "execution_count": 15,
   "id": "4eecb660",
   "metadata": {},
   "outputs": [
    {
     "name": "stdout",
     "output_type": "stream",
     "text": [
      "Labels: [0 0 0 0 0 0 0 0 0 0 0 0 0 0 0 0 0 0 0 0 0 0 0 0 0 0 1 1 1 1 1 1 1 1 1 1 1\n",
      " 1 1 1 1 1 1 1 1 1 1 1 1 1 1]\n",
      "Labels shape: (51,)\n"
     ]
    }
   ],
   "source": [
    "print(\"Labels: {}\".format(test_target))\n",
    "print(\"Labels shape: {}\".format(test_target.shape))"
   ]
  },
  {
   "cell_type": "code",
   "execution_count": 16,
   "id": "d55aade5",
   "metadata": {},
   "outputs": [],
   "source": [
    "# Model Training\n",
    "import warnings\n",
    "import matplotlib.pyplot as plt\n",
    "import seaborn as sns\n",
    "from sklearn.metrics import confusion_matrix, accuracy_score, classification_report\n",
    "from sklearn.linear_model import LogisticRegression\n",
    "from sklearn.tree import DecisionTreeClassifier\n",
    "from sklearn.ensemble import RandomForestClassifier\n",
    "from sklearn.neighbors import KNeighborsClassifier\n",
    "from sklearn.discriminant_analysis import LinearDiscriminantAnalysis\n",
    "from sklearn.naive_bayes import GaussianNB\n",
    "from sklearn.svm import SVC\n",
    "\n",
    "warnings.filterwarnings('ignore')\n",
    "\n",
    "\n",
    "num_trees = 100\n",
    "seed = 7\n",
    "scoring    = \"accuracy\"\n",
    "\n",
    "# create all the machine learning models\n",
    "models = []\n",
    "models.append(('LR', LogisticRegression(random_state=seed)))\n",
    "models.append(('LDA', LinearDiscriminantAnalysis()))\n",
    "models.append(('KNN', KNeighborsClassifier()))\n",
    "models.append(('CART', DecisionTreeClassifier(random_state=seed)))\n",
    "models.append(('RF', RandomForestClassifier(n_estimators=num_trees, random_state=seed)))\n",
    "models.append(('NB', GaussianNB()))\n",
    "models.append(('SVM', SVC(random_state=seed)))\n",
    "\n",
    "# variables to hold the results and names\n",
    "results = []\n",
    "names   = []"
   ]
  },
  {
   "cell_type": "code",
   "execution_count": 17,
   "id": "e2a4f13b",
   "metadata": {},
   "outputs": [
    {
     "name": "stdout",
     "output_type": "stream",
     "text": [
      "LR: 0.901961 \n",
      "LDA: 0.588235 \n",
      "KNN: 0.901961 \n",
      "CART: 0.725490 \n",
      "RF: 0.921569 \n",
      "NB: 0.588235 \n",
      "SVM: 0.823529 \n"
     ]
    },
    {
     "data": {
      "image/png": "[encoded data removed]",
      "text/plain": [
       "<Figure size 432x288 with 1 Axes>"
      ]
     },
     "metadata": {
      "needs_background": "light"
     },
     "output_type": "display_data"
    }
   ],
   "source": [
    "# Checking Accuracy for multiple models\n",
    "for name, model in models:\n",
    "    model.fit(trainscaled_features, train_target)\n",
    "    y_predict=model.predict(testscaled_features)\n",
    "    res = accuracy_score(test_target, y_predict)\n",
    "    results.append(res)\n",
    "    names.append(name)\n",
    "    msg = \"%s: %f \" % (name, res.mean())\n",
    "    print(msg)\n",
    "       \n",
    "plt.plot(names, results, color='red', marker='o')\n",
    "plt.title('Machine Learning algorithm comparison', fontsize=14)\n",
    "plt.xlabel('Models', fontsize=14)\n",
    "plt.ylabel('Accuracy Score', fontsize=14)\n",
    "plt.grid(True)\n",
    "plt.show()"
   ]
  },
  {
   "cell_type": "code",
   "execution_count": 18,
   "id": "b5e91206",
   "metadata": {},
   "outputs": [],
   "source": [
    "clf  = RandomForestClassifier(n_estimators=num_trees, random_state=seed)\n",
    "clf.fit(trainscaled_features, train_target)\n",
    "y_predict=clf.predict(testscaled_features)"
   ]
  },
  {
   "cell_type": "code",
   "execution_count": 19,
   "id": "5308d6e6",
   "metadata": {},
   "outputs": [
    {
     "data": {
      "text/plain": [
       "['Disease_detection.sav']"
      ]
     },
     "execution_count": 19,
     "metadata": {},
     "output_type": "execute_result"
    }
   ],
   "source": [
    "# save the model to disk\n",
    "filename = 'Disease_detection.sav'\n",
    "joblib.dump(clf, filename)"
   ]
  },
  {
   "cell_type": "code",
   "execution_count": 20,
   "id": "37acd272",
   "metadata": {},
   "outputs": [],
   "source": [
    "cm = confusion_matrix(test_target,y_predict)"
   ]
  },
  {
   "cell_type": "code",
   "execution_count": 21,
   "id": "77418318",
   "metadata": {},
   "outputs": [
    {
     "data": {
      "text/plain": [
       "<matplotlib.axes._subplots.AxesSubplot at 0x15ff506e910>"
      ]
     },
     "execution_count": 21,
     "metadata": {},
     "output_type": "execute_result"
    },
    {
     "data": {
      "image/png": "[encoded data removed]",
      "text/plain": [
       "<Figure size 432x288 with 2 Axes>"
      ]
     },
     "metadata": {
      "needs_background": "light"
     },
     "output_type": "display_data"
    }
   ],
   "source": [
    "sns.heatmap(cm ,annot=True)"
   ]
  },
  {
   "cell_type": "code",
   "execution_count": 22,
   "id": "399b3901",
   "metadata": {},
   "outputs": [
    {
     "data": {
      "text/plain": [
       "0.9215686274509803"
      ]
     },
     "execution_count": 22,
     "metadata": {},
     "output_type": "execute_result"
    }
   ],
   "source": [
    "accuracy_score(test_target, y_predict)"
   ]
  },
  {
   "cell_type": "code",
   "execution_count": 23,
   "id": "733fd392",
   "metadata": {},
   "outputs": [
    {
     "name": "stdout",
     "output_type": "stream",
     "text": [
      "0.9215686274509803\n"
     ]
    }
   ],
   "source": [
    "# load the model from disk\n",
    "loaded_model = joblib.load(filename)\n",
    "result = loaded_model.score(testscaled_features, test_target)\n",
    "print(result)"
   ]
  },
  {
   "cell_type": "code",
   "execution_count": 25,
   "id": "4ea0b6f2",
   "metadata": {},
   "outputs": [
    {
     "name": "stdout",
     "output_type": "stream",
     "text": [
      "healthy\n",
      "healthy\n",
      "healthy\n",
      "healthy\n",
      "healthy\n",
      "healthy\n",
      "healthy\n",
      "infected\n",
      "infected\n",
      "infected\n",
      "healthy\n",
      "healthy\n",
      "healthy\n",
      "healthy\n"
     ]
    }
   ],
   "source": [
    "for img in glob.glob(r'C:\\Users\\shubh\\Cotton_Project\\data\\*.jpg'):\n",
    "    image = cv2.imread(img)\n",
    "\n",
    "    image = cv2.resize(image, fixed_size)\n",
    "\n",
    "    # Call Image functios\n",
    "\n",
    "    BGR_RGB       = bgr_rgb(image)\n",
    "    RGB_HSV       = rgb_hsv(BGR_RGB)\n",
    "    IMG_SEGMENT   = img_segmentation(BGR_RGB,RGB_HSV)\n",
    "\n",
    "    # Call for Global Fetaure Descriptors\n",
    "\n",
    "    fv_hu_moments = fd_hu_moments(IMG_SEGMENT)\n",
    "    fv_haralick   = fd_haralick(IMG_SEGMENT)\n",
    "    fv_histogram  = fd_histogram(IMG_SEGMENT)\n",
    "\n",
    "    # Concatenate \n",
    "\n",
    "    global_feature = np.hstack([fv_histogram, fv_haralick, fv_hu_moments])\n",
    "\n",
    "    features = []\n",
    "    features.append(global_feature)\n",
    "\n",
    "    pred = loaded_model.predict(features)\n",
    "    \n",
    "    for i in pred:\n",
    "        if i == 0:\n",
    "            print('healthy')\n",
    "        else:\n",
    "            print('infected')"
   ]
  },
  {
   "cell_type": "code",
   "execution_count": null,
   "id": "a01491f4",
   "metadata": {},
   "outputs": [],
   "source": []
  }
 ],
 "metadata": {
  "kernelspec": {
   "display_name": "Python 3 (ipykernel)",
   "language": "python",
   "name": "python3"
  },
  "language_info": {
   "codemirror_mode": {
    "name": "ipython",
    "version": 3
   },
   "file_extension": ".py",
   "mimetype": "text/x-python",
   "name": "python",
   "nbconvert_exporter": "python",
   "pygments_lexer": "ipython3",
   "version": "3.8.13"
  }
 },
 "nbformat": 4,
 "nbformat_minor": 5
}
